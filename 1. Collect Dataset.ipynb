{
 "cells": [
  {
   "cell_type": "markdown",
   "metadata": {},
   "source": [
    "# Script Untuk Mengumpulkan Dataset"
   ]
  },
  {
   "cell_type": "code",
   "execution_count": 2,
   "metadata": {},
   "outputs": [],
   "source": [
    "import os \n",
    "import cv2 \n",
    "import numpy as np\n",
    "import matplotlib.pyplot as plt"
   ]
  },
  {
   "cell_type": "markdown",
   "metadata": {},
   "source": [
    "OS LIBRARY = provides functions for creating and removing a directory (folder), \n",
    "fetching its contents, changing and identifying the current directory, etc\n",
    "\n",
    "CV2 LIBRARY = used to perform tasks like face detection, objection tracking, landmark detection, and much more.\n",
    "\n",
    "Numpy lIBRARY =  used for working with arrays.\n",
    "\n",
    "Matplotlib LIBRARY = library for creating static, animated, and interactive visualizations in Python."
   ]
  },
  {
   "cell_type": "markdown",
   "metadata": {},
   "source": [
    "### Menambahkan Data Muka Baru\n",
    "\n",
    "- Membuat Folder Nama untuk data muka baru"
   ]
  },
  {
   "cell_type": "code",
   "execution_count": 3,
   "metadata": {},
   "outputs": [
    {
     "name": "stdout",
     "output_type": "stream",
     "text": [
      "Input Class Name : ragil\n",
      "Number of sample : 40\n",
      "[INFO] folder ragil created!\n"
     ]
    }
   ],
   "source": [
    "dataset_folder = \"lfw_dataset/\"\n",
    "\n",
    "class_name = input(\"Input Class Name : \") # Contoh : Fransiskus\n",
    "class_name.replace(\" \", \"_\") #replace whitespace with underscore\n",
    "\n",
    "n_sample = int(input(\"Number of sample : \"))\n",
    "\n",
    "if not os.path.exists(dataset_folder + class_name):\n",
    "    os.mkdir(dataset_folder + class_name)\n",
    "    print(\"[INFO] folder %s created!\" % class_name)\n",
    "else :\n",
    "    print(\"[INFO] folder %s already exist!\" % class_name)"
   ]
  },
  {
   "cell_type": "code",
   "execution_count": 4,
   "metadata": {},
   "outputs": [
    {
     "name": "stdout",
     "output_type": "stream",
     "text": [
      "[INFO] file lfw_dataset/ragil/ragil_0000.jpg created!\n",
      "[INFO] file lfw_dataset/ragil/ragil_0001.jpg created!\n",
      "[INFO] file lfw_dataset/ragil/ragil_0002.jpg created!\n",
      "[INFO] file lfw_dataset/ragil/ragil_0003.jpg created!\n",
      "[INFO] file lfw_dataset/ragil/ragil_0004.jpg created!\n",
      "[INFO] file lfw_dataset/ragil/ragil_0005.jpg created!\n",
      "[INFO] file lfw_dataset/ragil/ragil_0006.jpg created!\n",
      "[INFO] file lfw_dataset/ragil/ragil_0007.jpg created!\n",
      "[INFO] file lfw_dataset/ragil/ragil_0008.jpg created!\n",
      "[INFO] file lfw_dataset/ragil/ragil_0009.jpg created!\n",
      "[INFO] file lfw_dataset/ragil/ragil_0010.jpg created!\n",
      "[INFO] file lfw_dataset/ragil/ragil_0011.jpg created!\n",
      "[INFO] file lfw_dataset/ragil/ragil_0012.jpg created!\n",
      "[INFO] file lfw_dataset/ragil/ragil_0013.jpg created!\n",
      "[INFO] file lfw_dataset/ragil/ragil_0014.jpg created!\n",
      "[INFO] file lfw_dataset/ragil/ragil_0015.jpg created!\n",
      "[INFO] file lfw_dataset/ragil/ragil_0016.jpg created!\n",
      "[INFO] file lfw_dataset/ragil/ragil_0017.jpg created!\n",
      "[INFO] file lfw_dataset/ragil/ragil_0018.jpg created!\n",
      "[INFO] file lfw_dataset/ragil/ragil_0019.jpg created!\n",
      "[INFO] file lfw_dataset/ragil/ragil_0020.jpg created!\n",
      "[INFO] file lfw_dataset/ragil/ragil_0021.jpg created!\n",
      "[INFO] file lfw_dataset/ragil/ragil_0022.jpg created!\n",
      "[INFO] file lfw_dataset/ragil/ragil_0023.jpg created!\n",
      "[INFO] file lfw_dataset/ragil/ragil_0024.jpg created!\n",
      "[INFO] file lfw_dataset/ragil/ragil_0025.jpg created!\n",
      "[INFO] file lfw_dataset/ragil/ragil_0026.jpg created!\n",
      "[INFO] file lfw_dataset/ragil/ragil_0027.jpg created!\n",
      "[INFO] file lfw_dataset/ragil/ragil_0028.jpg created!\n",
      "[INFO] file lfw_dataset/ragil/ragil_0029.jpg created!\n",
      "[INFO] file lfw_dataset/ragil/ragil_0030.jpg created!\n",
      "[INFO] file lfw_dataset/ragil/ragil_0031.jpg created!\n",
      "[INFO] file lfw_dataset/ragil/ragil_0032.jpg created!\n",
      "[INFO] file lfw_dataset/ragil/ragil_0033.jpg created!\n",
      "[INFO] file lfw_dataset/ragil/ragil_0034.jpg created!\n",
      "[INFO] file lfw_dataset/ragil/ragil_0035.jpg created!\n",
      "[INFO] file lfw_dataset/ragil/ragil_0036.jpg created!\n",
      "[INFO] file lfw_dataset/ragil/ragil_0037.jpg created!\n",
      "[INFO] file lfw_dataset/ragil/ragil_0038.jpg created!\n",
      "[INFO] file lfw_dataset/ragil/ragil_0039.jpg created!\n"
     ]
    }
   ],
   "source": [
    "cap = cv2.VideoCapture(0)\n",
    "    \n",
    "i = 0\n",
    "while cap.isOpened():\n",
    "    ret, frame = cap.read()\n",
    "    \n",
    "    if ret :\n",
    "        cv2.imshow(\"Capture Photo\", frame)\n",
    "        filename = dataset_folder + \"%s/%s_%04d.jpg\" %  (class_name, class_name, i)\n",
    "        cv2.imwrite(filename, frame)\n",
    "        print(\"[INFO] file %s created!\" % filename)\n",
    "        \n",
    "        if cv2.waitKey(200) == ord('q') or i == (n_sample - 1): #hold 0.2 detik\n",
    "            break\n",
    "        i += 1    \n",
    "        \n",
    "cap.release()\n",
    "cv2.destroyAllWindows()"
   ]
  },
  {
   "cell_type": "markdown",
   "metadata": {},
   "source": [
    "- check dataset"
   ]
  },
  {
   "cell_type": "code",
   "execution_count": 5,
   "metadata": {
    "scrolled": true
   },
   "outputs": [
    {
     "data": {
      "text/plain": [
       "['ragil_0000.jpg',\n",
       " 'ragil_0001.jpg',\n",
       " 'ragil_0002.jpg',\n",
       " 'ragil_0003.jpg',\n",
       " 'ragil_0004.jpg',\n",
       " 'ragil_0005.jpg',\n",
       " 'ragil_0006.jpg',\n",
       " 'ragil_0007.jpg',\n",
       " 'ragil_0008.jpg',\n",
       " 'ragil_0009.jpg',\n",
       " 'ragil_0010.jpg',\n",
       " 'ragil_0011.jpg',\n",
       " 'ragil_0012.jpg',\n",
       " 'ragil_0013.jpg',\n",
       " 'ragil_0014.jpg',\n",
       " 'ragil_0015.jpg',\n",
       " 'ragil_0016.jpg',\n",
       " 'ragil_0017.jpg',\n",
       " 'ragil_0018.jpg',\n",
       " 'ragil_0019.jpg',\n",
       " 'ragil_0020.jpg',\n",
       " 'ragil_0021.jpg',\n",
       " 'ragil_0022.jpg',\n",
       " 'ragil_0023.jpg',\n",
       " 'ragil_0024.jpg',\n",
       " 'ragil_0025.jpg',\n",
       " 'ragil_0026.jpg',\n",
       " 'ragil_0027.jpg',\n",
       " 'ragil_0028.jpg',\n",
       " 'ragil_0029.jpg',\n",
       " 'ragil_0030.jpg',\n",
       " 'ragil_0031.jpg',\n",
       " 'ragil_0032.jpg',\n",
       " 'ragil_0033.jpg',\n",
       " 'ragil_0034.jpg',\n",
       " 'ragil_0035.jpg',\n",
       " 'ragil_0036.jpg',\n",
       " 'ragil_0037.jpg',\n",
       " 'ragil_0038.jpg',\n",
       " 'ragil_0039.jpg']"
      ]
     },
     "execution_count": 5,
     "metadata": {},
     "output_type": "execute_result"
    }
   ],
   "source": [
    "os.listdir(dataset_folder + class_name)"
   ]
  },
  {
   "cell_type": "code",
   "execution_count": null,
   "metadata": {},
   "outputs": [],
   "source": []
  },
  {
   "cell_type": "code",
   "execution_count": null,
   "metadata": {},
   "outputs": [],
   "source": []
  }
 ],
 "metadata": {
  "kernelspec": {
   "display_name": "Python 3 (ipykernel)",
   "language": "python",
   "name": "python3"
  },
  "language_info": {
   "codemirror_mode": {
    "name": "ipython",
    "version": 3
   },
   "file_extension": ".py",
   "mimetype": "text/x-python",
   "name": "python",
   "nbconvert_exporter": "python",
   "pygments_lexer": "ipython3",
   "version": "3.8.13"
  }
 },
 "nbformat": 4,
 "nbformat_minor": 4
}
